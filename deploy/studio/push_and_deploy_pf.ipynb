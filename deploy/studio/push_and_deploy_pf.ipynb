{
 "cells": [
  {
   "cell_type": "markdown",
   "metadata": {},
   "source": [
    "# 1. Push the prompt flow to AI Studio"
   ]
  },
  {
   "cell_type": "code",
   "execution_count": 8,
   "metadata": {},
   "outputs": [],
   "source": [
    "import os\n",
    "from azure.ai.ml import MLClient\n",
    "from azure.ai.ml.entities import WorkspaceConnection\n",
    "from azure.identity import DefaultAzureCredential, InteractiveBrowserCredential\n",
    "\n",
    "config_path = \"../config.json\""
   ]
  },
  {
   "cell_type": "code",
   "execution_count": 9,
   "metadata": {},
   "outputs": [],
   "source": [
    "# IMPORTANT! Rememeber login with az login in kernel terminal\n",
    "\n",
    "#az login --use-device-code --tenant \"XXXX\"\n",
    "#az account set --subscription \"XXXX\"\n"
   ]
  },
  {
   "cell_type": "code",
   "execution_count": 10,
   "metadata": {},
   "outputs": [],
   "source": [
    "try:\n",
    "    credential = DefaultAzureCredential()\n",
    "    # Check if given credential can get token successfully.\n",
    "    credential.get_token(\"https://management.azure.com/.default\")\n",
    "except Exception as ex:\n",
    "    # Fall back to InteractiveBrowserCredential in case DefaultAzureCredential not work\n",
    "    credential = InteractiveBrowserCredential()"
   ]
  },
  {
   "cell_type": "code",
   "execution_count": 11,
   "metadata": {},
   "outputs": [
    {
     "name": "stderr",
     "output_type": "stream",
     "text": [
      "Found the config file in: ../config.json\n"
     ]
    }
   ],
   "source": [
    "from promptflow.azure import PFClient\n",
    "\n",
    "pf_azure_client = PFClient.from_config(credential=credential, path=config_path)"
   ]
  },
  {
   "cell_type": "code",
   "execution_count": 12,
   "metadata": {},
   "outputs": [],
   "source": [
    "# Create unique name for pf name with date time\n",
    "import datetime\n",
    "now = datetime.datetime.now()\n",
    "pf_name = \"azqr-copilot-{}\".format(now.strftime(\"%Y-%m-%d-%H-%M-%S\"))"
   ]
  },
  {
   "cell_type": "code",
   "execution_count": 13,
   "metadata": {},
   "outputs": [],
   "source": [
    "# Runtime no longer needed (not in flow schema)\n",
    "# load flow\n",
    "flow = \"../copilot/rag_flow/\""
   ]
  },
  {
   "cell_type": "code",
   "execution_count": 14,
   "metadata": {},
   "outputs": [
    {
     "name": "stdout",
     "output_type": "stream",
     "text": [
      "Flow created successfully:\n",
      "{\n",
      "    \"name\": \"b73b12b0-6af1-47ee-b3fa-1c1c1349d914\",\n",
      "    \"type\": \"chat\",\n",
      "    \"path\": \"Users/alejandro.almeida.garcia/promptflow/rag_flow-04-20-2024-01-31-15/flow.dag.yaml\",\n",
      "    \"code\": \"azureml://locations/swedencentral/workspaces/04daa8ed-2795-4280-a0c5-646d6ff44631/flows/b73b12b0-6af1-47ee-b3fa-1c1c1349d914\",\n",
      "    \"display_name\": \"azqr-copilot-2024-04-20-01-31-14\",\n",
      "    \"owner\": {\n",
      "        \"user_object_id\": \"4eb1a358-0a8c-444b-a55a-a9a520707c16\",\n",
      "        \"user_tenant_id\": \"b90fb76c-8565-4c08-a7e2-f30f7c488ff4\",\n",
      "        \"user_name\": \"Alejandro Almeida\"\n",
      "    },\n",
      "    \"is_archived\": false,\n",
      "    \"created_date\": \"2024-04-20 01:31:23.033789+00:00\",\n",
      "    \"flow_portal_url\": \"https://ai.azure.com/projectflows/b73b12b0-6af1-47ee-b3fa-1c1c1349d914/04daa8ed-2795-4280-a0c5-646d6ff44631/details/Flow?wsid=/subscriptions/8d2c636f-918d-4ef6-8454-8f5f4b086e72/resourcegroups/azqr-rg/providers/Microsoft.MachineLearningServices/workspaces/project-azqr\"\n",
      "}\n",
      "Creating prompt flow <promptflow.azure._entities._flow.Flow object at 0x7f4f60d17220>\n"
     ]
    }
   ],
   "source": [
    "contoso_chat_flow = pf_azure_client.flows.create_or_update(\n",
    "    flow=flow,\n",
    "    display_name=pf_name,\n",
    "    type=\"chat\")\n",
    "print(\"Creating prompt flow\", contoso_chat_flow)"
   ]
  },
  {
   "cell_type": "markdown",
   "metadata": {},
   "source": [
    "# 2. Navigate to AI Studio to test and deploy the prompt flow"
   ]
  }
 ],
 "metadata": {
  "kernelspec": {
   "display_name": "Python 3",
   "language": "python",
   "name": "python3"
  },
  "language_info": {
   "codemirror_mode": {
    "name": "ipython",
    "version": 3
   },
   "file_extension": ".py",
   "mimetype": "text/x-python",
   "name": "python",
   "nbconvert_exporter": "python",
   "pygments_lexer": "ipython3",
   "version": "3.10.13"
  }
 },
 "nbformat": 4,
 "nbformat_minor": 2
}
